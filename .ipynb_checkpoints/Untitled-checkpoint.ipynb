{
 "cells": [
  {
   "cell_type": "code",
   "execution_count": null,
   "id": "47b45acc-f322-4ce8-af78-27d7ca5ddebe",
   "metadata": {},
   "outputs": [],
   "source": []
  }
 ],
 "metadata": {
  "kernelspec": {
   "display_name": "Python 3",
   "language": "python",
   "name": "python3"
  },
  "language_info": {
   "name": ""
  }
 },
 "nbformat": 4,
 "nbformat_minor": 5
}
